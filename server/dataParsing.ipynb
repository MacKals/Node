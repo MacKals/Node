{
 "cells": [
  {
   "cell_type": "code",
   "execution_count": 1,
   "metadata": {},
   "outputs": [
    {
     "name": "stdout",
     "output_type": "stream",
     "text": [
      "2019-05-09 10:20:25\n",
      "2019-05-12 00:38:30.650481\n"
     ]
    }
   ],
   "source": [
    "from datetime import datetime\n",
    "\n",
    "def datetimeFromUnixTime(t):\n",
    "    ts = int(t)\n",
    "    return datetime.utcfromtimestamp(ts).strftime('%Y-%m-%d %H:%M:%S')\n",
    "\n",
    "def getCurrentTime():\n",
    "    return str(datetime.now())\n",
    "\n",
    "print(datetimeFromUnixTime(1557397225))\n",
    "print(getCurrentTime())"
   ]
  },
  {
   "cell_type": "code",
   "execution_count": 17,
   "metadata": {},
   "outputs": [],
   "source": []
  },
  {
   "cell_type": "code",
   "execution_count": 26,
   "metadata": {},
   "outputs": [
    {
     "name": "stdout",
     "output_type": "stream",
     "text": [
      "call eco_nodes.insert_data(02, 0, 2, 0, '2019-05-09 10:20:29', '2019-05-12 00:56:41.603545', 15266.1);\n",
      "call eco_nodes.insert_data(02, 0, 2, 1, '2019-05-09 10:20:29', '2019-05-12 00:56:41.603545', 21.7);\n",
      "call eco_nodes.insert_data(02, 0, 3, 0, '2019-05-09 10:20:29', '2019-05-12 00:56:41.603545', 100000.0);\n",
      "call eco_nodes.insert_data(02, 0, 3, 1, '2019-05-09 10:20:29', '2019-05-12 00:56:41.603545', 21.2);\n",
      "call eco_nodes.insert_data(02, 0, 17, 0, '2019-05-09 10:20:29', '2019-05-12 00:56:41.603545', 1.41);\n",
      "call eco_nodes.insert_data(02, 0, 17, 1, '2019-05-09 10:20:29', '2019-05-12 00:56:41.603545', 21.5);\n",
      "call eco_nodes.insert_data(02, 0, 17, 2, '2019-05-09 10:20:29', '2019-05-12 00:56:41.603545', 1);\n",
      "call eco_nodes.insert_data(02, 0, 22, 0, '2019-05-09 10:20:29', '2019-05-12 00:56:41.603545', 1.76);\n",
      "call eco_nodes.insert_data(02, 0, 22, 1, '2019-05-09 10:20:29', '2019-05-12 00:56:41.603545', 21.4);\n",
      "call eco_nodes.insert_data(02, 0, 22, 2, '2019-05-09 10:20:29', '2019-05-12 00:56:41.603545', 1);\n"
     ]
    }
   ],
   "source": [
    "import mysql.connector\n",
    "\n",
    "engine = mysql.connector.connect(\n",
    "    user=\"ecohydro\",\n",
    "    password=\"7fQh53G6D2BuCnT54hXH95CJx\",\n",
    "    host=\"ubc-ecohydro-nodes-mysql-database.cycweraudmq1.us-east-1.rds.amazonaws.com\",\n",
    "    port='3306',\n",
    "    database='eco_nodes'\n",
    ")\n",
    "\n",
    "cur = engine.cursor()\n",
    "#insertDataQuery = 'datacall eco_nodes.insert_data(%s, {boot_count}, {sensor}, {param}, {read_time}, {store_time}, {reading});\n",
    "\n",
    "\n",
    "data = \"02&1557397229&0&2:15266.1,21.7&3:100000.0,21.2&17:1.41,21.5,1&22:1.76,21.4,1\"\n",
    "\n",
    "\n",
    "def writeDataToDatabase(node, boot_count, sensor, param, read_time, store_time, reading):\n",
    "    #cur.execute(f'CREATE TABLE {node} (id serial PRIMARY KEY, num float, data varchar);')\n",
    "    print(f'call eco_nodes.insert_data({node}, {boot_count}, {sensor}, {param}, \\'{read_time}\\', \\'{store_time}\\', {reading});')\n",
    "    cur.execute(f'call eco_nodes.insert_data({node}, {boot_count}, {sensor}, {param}, \\'{read_time}\\', \\'{store_time}\\', {reading});')\n",
    "    #cur.execute(\"SELECT * FROM test;\")\n",
    "    #cur.execute(insertDataQuery, values)\n",
    "    engine.commit()\n",
    "\n",
    "\n",
    "def parseDataString(string):\n",
    "    entries = string.split('&')\n",
    "        \n",
    "    node = entries[0]\n",
    "    read_time = datetimeFromUnixTime(entries[1])\n",
    "    store_time = getCurrentTime()\n",
    "    \n",
    "    boot_count = entries[2]\n",
    "    \n",
    "    for entry in entries[3:]:\n",
    "        e = entry.split(':')\n",
    "        \n",
    "        sensor = e[0]\n",
    "        readings = e[1].split(',')\n",
    "        \n",
    "        for param, reading in enumerate(readings):\n",
    "            #writeDataToDatabase(int(node), int(boot_count), int(sensor), param, read_time, store_time, float(reading));\n",
    "            writeDataToDatabase(node, boot_count, sensor, param, read_time, store_time, reading);\n",
    "\n",
    "parseDataString(data)\n",
    "\n",
    "cur.close()\n",
    "engine.close()"
   ]
  },
  {
   "cell_type": "code",
   "execution_count": null,
   "metadata": {},
   "outputs": [],
   "source": []
  }
 ],
 "metadata": {
  "kernelspec": {
   "display_name": "Python 3",
   "language": "python",
   "name": "python3"
  },
  "language_info": {
   "codemirror_mode": {
    "name": "ipython",
    "version": 3
   },
   "file_extension": ".py",
   "mimetype": "text/x-python",
   "name": "python",
   "nbconvert_exporter": "python",
   "pygments_lexer": "ipython3",
   "version": "3.7.3"
  }
 },
 "nbformat": 4,
 "nbformat_minor": 2
}
