{
 "cells": [
  {
   "cell_type": "code",
   "execution_count": null,
   "metadata": {},
   "outputs": [],
   "source": []
  },
  {
   "cell_type": "code",
   "execution_count": 17,
   "metadata": {},
   "outputs": [
    {
     "name": "stdout",
     "output_type": "stream",
     "text": [
      "1557397225\n",
      "address  2  with data  ['15266.1', '21.7']\n",
      "address  3  with data  ['100000.0', '21.2']\n",
      "address  17  with data  ['1.41', '21.5', '1']\n",
      "address  22  with data  ['1.76', '21.4', '1']\n"
     ]
    }
   ],
   "source": [
    "data = \"1557397225&2:15266.1,21.7&3:100000.0,21.2&17:1.41,21.5,1&22:1.76,21.4,1\"\n",
    "node = 'node-02'\n",
    "\n",
    "def parseDataString(node, string):\n",
    "    entries = string.split('&')\n",
    "    \n",
    "    timestamp = lines[0]\n",
    "    print(timestamp)\n",
    "    \n",
    "    for entry in entries[1:]:\n",
    "        e = entry.split(':')\n",
    "        \n",
    "        sensorAddress = e[0]\n",
    "        dataPoints = e[1].split(',')\n",
    "        \n",
    "        print(\"address \", sensorAddress, \" with data \", dataPoints) \n",
    "        \n",
    "parseDataString(node, data)"
   ]
  },
  {
   "cell_type": "code",
   "execution_count": 21,
   "metadata": {},
   "outputs": [
    {
     "name": "stdout",
     "output_type": "stream",
     "text": [
      "(1, 100, \"abcmktest'def\")\n"
     ]
    }
   ],
   "source": [
    "import psycopg2\n",
    "engine = psycopg2.connect(\n",
    "    database=\"postgres\",\n",
    "    user=\"ecohydro\",\n",
    "    password=\"ecohydro4lora\",\n",
    "    host=\"ubcecohydrologynodeserver.c1lkqthk8yp4.us-east-2.rds.amazonaws.com\",\n",
    "    port='5200'\n",
    ")\n",
    "\n",
    "with engine.cursor() as cur:\n",
    "    cur.execute(f'CREATE TABLE {node} (id serial PRIMARY KEY, num float, data varchar);')\n",
    "    cur.execute(\"INSERT INTO test (num, data) VALUES (%s, %s)\", (100, \"abcmktest'def\"))\n",
    "    cur.execute(\"SELECT * FROM test;\")\n",
    "    print(cur.fetchone())\n",
    "    engine.commit()\n",
    "    \n",
    "engine.close()"
   ]
  }
 ],
 "metadata": {
  "kernelspec": {
   "display_name": "Python 3",
   "language": "python",
   "name": "python3"
  },
  "language_info": {
   "codemirror_mode": {
    "name": "ipython",
    "version": 3
   },
   "file_extension": ".py",
   "mimetype": "text/x-python",
   "name": "python",
   "nbconvert_exporter": "python",
   "pygments_lexer": "ipython3",
   "version": "3.7.3"
  }
 },
 "nbformat": 4,
 "nbformat_minor": 2
}
